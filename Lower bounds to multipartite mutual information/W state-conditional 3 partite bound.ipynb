{
 "cells": [
  {
   "cell_type": "code",
   "execution_count": 2,
   "metadata": {},
   "outputs": [
    {
     "name": "stdout",
     "output_type": "stream",
     "text": [
      "5.0.4\n"
     ]
    }
   ],
   "source": [
    "import qutip as qt\n",
    "import numpy as np\n",
    "print(qt.__version__)\n"
   ]
  },
  {
   "cell_type": "markdown",
   "metadata": {},
   "source": [
    "## First we define state and density matrix"
   ]
  },
  {
   "cell_type": "code",
   "execution_count": 3,
   "metadata": {},
   "outputs": [
    {
     "name": "stdout",
     "output_type": "stream",
     "text": [
      "W state:\n",
      "Quantum object: dims=[[2, 2, 2], [1, 1, 1]], shape=(8, 1), type='ket', dtype=Dense\n",
      "Qobj data =\n",
      "[[0.        ]\n",
      " [0.57735027]\n",
      " [0.57735027]\n",
      " [0.        ]\n",
      " [0.57735027]\n",
      " [0.        ]\n",
      " [0.        ]\n",
      " [0.        ]]\n",
      "Density Matrix in Matrix Form:\n",
      "\n",
      "[[0.    0.    0.    0.    0.    0.    0.    0.   ]\n",
      " [0.    0.333 0.333 0.    0.333 0.    0.    0.   ]\n",
      " [0.    0.333 0.333 0.    0.333 0.    0.    0.   ]\n",
      " [0.    0.    0.    0.    0.    0.    0.    0.   ]\n",
      " [0.    0.333 0.333 0.    0.333 0.    0.    0.   ]\n",
      " [0.    0.    0.    0.    0.    0.    0.    0.   ]\n",
      " [0.    0.    0.    0.    0.    0.    0.    0.   ]\n",
      " [0.    0.    0.    0.    0.    0.    0.    0.   ]]\n"
     ]
    }
   ],
   "source": [
    "\n",
    "def create_w_state(n):\n",
    "    basis_states = [qt.basis([2]*n, [1 if i == j else 0 for i in range(n)]) for j in range(n)]\n",
    "    w_state = sum(basis_states) / np.sqrt(n)\n",
    "    return w_state\n",
    "\n",
    "def compute_density_matrix(state):\n",
    "    return state * state.dag()\n",
    "\n",
    "num_qubits = 3 \n",
    "w_state = create_w_state(num_qubits)\n",
    "p_W = compute_density_matrix(w_state)\n",
    "\n",
    "print(\"W state:\")\n",
    "print(w_state)\n",
    "np.set_printoptions(linewidth=200, precision=3, suppress=True)\n",
    "print(\"Density Matrix in Matrix Form:\\n\")\n",
    "print(np.real(p_W.full()))\n"
   ]
  },
  {
   "cell_type": "markdown",
   "metadata": {},
   "source": [
    "## Conditional Mutual Information bound check"
   ]
  },
  {
   "cell_type": "code",
   "execution_count": 4,
   "metadata": {},
   "outputs": [],
   "source": [
    "def compute_reduced_density_matrices(p_W):\n",
    "    p_A = p_W.ptrace([0])  # Tracing out B and C\n",
    "    p_B = p_W.ptrace([1])  # Tracing out A and C\n",
    "    p_C = p_W.ptrace([2])  # Tracing out A and B\n",
    "    p_AB = p_W.ptrace([0, 1])  # Tracing out C\n",
    "    p_AC = p_W.ptrace([0, 2])  # Tracing out B\n",
    "    p_BC = p_W.ptrace([1, 2])  # Tracing out A\n",
    "    return p_A, p_B, p_C, p_AB, p_AC, p_BC\n",
    "\n",
    "\n",
    "p_A, p_B, p_C, p_AB, p_AC, p_BC = compute_reduced_density_matrices(p_W)\n",
    "\n",
    "def compute_entropies(p_A, p_B, p_C, p_AB, p_AC, p_BC, p_W):\n",
    "    S_A = qt.entropy_vn(p_A)\n",
    "    S_B = qt.entropy_vn(p_B)\n",
    "    S_C = qt.entropy_vn(p_C)\n",
    "    S_AB = qt.entropy_vn(p_AB)\n",
    "    S_AC = qt.entropy_vn(p_AC)\n",
    "    S_BC = qt.entropy_vn(p_BC)\n",
    "    S_W = qt.entropy_vn(p_W)  # Total system entropy\n",
    "    return S_A, S_B, S_C, S_AB, S_AC, S_BC, S_W\n",
    "\n",
    "S_A, S_B, S_C, S_AB, S_AC, S_BC, S_W = compute_entropies(p_A, p_B, p_C, p_AB, p_AC, p_BC, p_W)\n"
   ]
  },
  {
   "cell_type": "code",
   "execution_count": 5,
   "metadata": {},
   "outputs": [
    {
     "name": "stdout",
     "output_type": "stream",
     "text": [
      "========================================\n",
      "Subsystem  |      Entropy\n",
      "========================================\n",
      "S(ρ_A)     |     0.636514\n",
      "S(ρ_B)     |     0.636514\n",
      "S(ρ_C)     |     0.636514\n",
      "S(ρ_AB)    |     0.636514\n",
      "S(ρ_AC)    |     0.636514\n",
      "S(ρ_BC)    |     0.636514\n",
      "S(ρ_W)     |    -0.000000\n",
      "========================================\n"
     ]
    }
   ],
   "source": [
    "# Nicely formatted printout\n",
    "entropy_labels = [\"S(ρ_A)\", \"S(ρ_B)\", \"S(ρ_C)\", \"S(ρ_AB)\", \"S(ρ_AC)\", \"S(ρ_BC)\", \"S(ρ_W)\"]\n",
    "entropy_values = [S_A, S_B, S_C, S_AB, S_AC, S_BC, S_W]\n",
    "\n",
    "# Print header\n",
    "print(\"=\" * 40)\n",
    "print(f\"{'Subsystem':<10} | {'Entropy':>12}\")\n",
    "print(\"=\" * 40)\n",
    "\n",
    "# Print entropy values\n",
    "for label, value in zip(entropy_labels, entropy_values):\n",
    "    print(f\"{label:<10} | {value:12.6f}\")\n",
    "\n",
    "print(\"=\" * 40)\n"
   ]
  },
  {
   "cell_type": "markdown",
   "metadata": {},
   "source": [
    "## Compute the Conditional Mutual Information"
   ]
  },
  {
   "cell_type": "code",
   "execution_count": 6,
   "metadata": {},
   "outputs": [
    {
     "name": "stdout",
     "output_type": "stream",
     "text": [
      "Conditional mutual information I(A:B|C) = 0.636514168294817\n"
     ]
    }
   ],
   "source": [
    "I_ABcC = S_AC + S_BC - S_W - S_C\n",
    "print(\"Conditional mutual information I(A:B|C) =\",I_ABcC)"
   ]
  },
  {
   "cell_type": "markdown",
   "metadata": {},
   "source": [
    "## Compute 3 possible bounds using Z operator"
   ]
  },
  {
   "cell_type": "code",
   "execution_count": 10,
   "metadata": {},
   "outputs": [],
   "source": [
    "Z = qt.sigmaz()\n",
    "Z_2 = qt.tensor(Z, Z)\n",
    "Z_full = qt.tensor(Z, Z, Z)\n",
    "\n",
    "\n",
    "avg_Z_A = (p_A * Z).tr()\n",
    "avg_Z_B = (p_B * Z).tr()\n",
    "avg_Z_C = (p_C * Z).tr()\n",
    "avg_Z_AC = (p_AC * Z_2).tr()\n",
    "avg_Z_BC = (p_BC * Z_2).tr()\n",
    "avg_Z_AB = (p_AB * Z_2).tr()\n",
    "avg_Z_full = (p_W * Z_full).tr()\n",
    "\n",
    "Z_norm = 1\n",
    "\n"
   ]
  },
  {
   "cell_type": "code",
   "execution_count": 11,
   "metadata": {},
   "outputs": [
    {
     "name": "stdout",
     "output_type": "stream",
     "text": [
      "========================================\n",
      "Observable |    Expectation Value\n",
      "========================================\n",
      "⟨Z_A⟩      |             0.333333\n",
      "⟨Z_B⟩      |             0.333333\n",
      "⟨Z_C⟩      |             0.333333\n",
      "⟨Z_AC⟩     |            -0.333333\n",
      "⟨Z_BC⟩     |            -0.333333\n",
      "⟨Z_AB⟩     |            -0.333333\n",
      "⟨Z_W⟩ (Full) |            -1.000000\n",
      "========================================\n"
     ]
    }
   ],
   "source": [
    "# Define labels and values\n",
    "z_labels = [\n",
    "    \"⟨Z_A⟩\", \"⟨Z_B⟩\", \"⟨Z_C⟩\",\n",
    "    \"⟨Z_AC⟩\", \"⟨Z_BC⟩\", \"⟨Z_AB⟩\",\n",
    "    \"⟨Z_W⟩ (Full)\"\n",
    "]\n",
    "z_values = [\n",
    "    avg_Z_A, avg_Z_B, avg_Z_C,\n",
    "    avg_Z_AC, avg_Z_BC, avg_Z_AB,\n",
    "    avg_Z_full\n",
    "]\n",
    "\n",
    "# Print header\n",
    "print(\"=\" * 40)\n",
    "print(f\"{'Observable':<10} | {'Expectation Value':>20}\")\n",
    "print(\"=\" * 40)\n",
    "\n",
    "# Print expectation values\n",
    "for label, value in zip(z_labels, z_values):\n",
    "    print(f\"{label:<10} | {value:20.6f}\")\n",
    "\n",
    "print(\"=\" * 40)\n"
   ]
  },
  {
   "cell_type": "code",
   "execution_count": 15,
   "metadata": {},
   "outputs": [
    {
     "name": "stdout",
     "output_type": "stream",
     "text": [
      " f_1 =  -0.868312757201646 \n",
      " f_2 =  -1.8207590306355739 \n",
      " f_3 = 0.3086419753086421 \n",
      " f_4 =  0.02469135802469138\n"
     ]
    }
   ],
   "source": [
    "f_1 = 0.5*(((avg_Z_full-(avg_Z_A*avg_Z_BC))**2 + (avg_Z_full-(avg_Z_B*avg_Z_AC))**2)/(2*3*Z_norm**2)-2)\n",
    "f_2 = (avg_Z_full-avg_Z_A*avg_Z_B*avg_Z_C)**2/(2*3*Z_norm**2)-2\n",
    "f_3 = (avg_Z_full-avg_Z_A*avg_Z_B)**2/(2*2*Z_norm**2) \n",
    "f_4 = (avg_Z_full*avg_Z_C - avg_Z_AC*avg_Z_BC)**2/(2*4*Z_norm**2)\n",
    "\n",
    "print(\" f_1 = \", np.real(f_1),\"\\n f_2 = \", np.real(f_2),\"\\n f_3 =\",np.real(f_3),\"\\n f_4 = \", np.real(f_4))"
   ]
  }
 ],
 "metadata": {
  "kernelspec": {
   "display_name": "Python 3.9 (qutip)",
   "language": "python",
   "name": "myenv"
  },
  "language_info": {
   "codemirror_mode": {
    "name": "ipython",
    "version": 3
   },
   "file_extension": ".py",
   "mimetype": "text/x-python",
   "name": "python",
   "nbconvert_exporter": "python",
   "pygments_lexer": "ipython3",
   "version": "3.9.2"
  }
 },
 "nbformat": 4,
 "nbformat_minor": 2
}
