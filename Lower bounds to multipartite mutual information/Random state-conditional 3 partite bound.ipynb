{
 "cells": [
  {
   "cell_type": "code",
   "execution_count": 1,
   "metadata": {},
   "outputs": [
    {
     "name": "stdout",
     "output_type": "stream",
     "text": [
      "5.0.4\n"
     ]
    }
   ],
   "source": [
    "import qutip as qt\n",
    "import numpy as np\n",
    "print(qt.__version__)\n"
   ]
  },
  {
   "cell_type": "markdown",
   "metadata": {},
   "source": [
    "## First we define state and density matrix"
   ]
  },
  {
   "cell_type": "code",
   "execution_count": 2,
   "metadata": {},
   "outputs": [
    {
     "name": "stdout",
     "output_type": "stream",
     "text": [
      "Random state:\n",
      "Quantum object: dims=[[2, 2, 2], [1, 1, 1]], shape=(8, 1), type='ket', dtype=Dense\n",
      "Qobj data =\n",
      "[[0.15776834]\n",
      " [0.39442983]\n",
      " [0.30627739]\n",
      " [0.41989573]\n",
      " [0.43354136]\n",
      " [0.18587238]\n",
      " [0.41011058]\n",
      " [0.3983951 ]]\n",
      "Density Matrix in Matrix Form:\n",
      "[[0.025 0.062 0.048 0.066 0.068 0.029 0.065 0.063]\n",
      " [0.062 0.156 0.121 0.166 0.171 0.073 0.162 0.157]\n",
      " [0.048 0.121 0.094 0.129 0.133 0.057 0.126 0.122]\n",
      " [0.066 0.166 0.129 0.176 0.182 0.078 0.172 0.167]\n",
      " [0.068 0.171 0.133 0.182 0.188 0.081 0.178 0.173]\n",
      " [0.029 0.073 0.057 0.078 0.081 0.035 0.076 0.074]\n",
      " [0.065 0.162 0.126 0.172 0.178 0.076 0.168 0.163]\n",
      " [0.063 0.157 0.122 0.167 0.173 0.074 0.163 0.159]]\n"
     ]
    }
   ],
   "source": [
    "\n",
    "def create_random_state(n):\n",
    "    basis_states = [qt.basis([2]*n, [int(i) for i in format(j, f'0{n}b')]) for j in range(2**n)]\n",
    "    \n",
    "    random_probs = np.random.rand(2**n)\n",
    "    random_probs /= np.sum(random_probs)  # Normalize to sum to 1\n",
    "    \n",
    "    coefficients = np.sqrt(random_probs)\n",
    "   \n",
    "    random_state = sum(coeff * basis for coeff, basis in zip(coefficients, basis_states))\n",
    "    return random_state\n",
    "\n",
    "def compute_density_matrix(state):\n",
    "    return state * state.dag()\n",
    "\n",
    "num_qubits = 3  \n",
    "\n",
    "random_state = create_random_state(num_qubits)\n",
    "\n",
    "p_random = compute_density_matrix(random_state)\n",
    "\n",
    "\n",
    "print(\"Random state:\")\n",
    "print(random_state)\n",
    "np.set_printoptions(linewidth=200, precision=3, suppress=True)\n",
    "print(\"Density Matrix in Matrix Form:\")\n",
    "print(np.real(p_random.full()))\n",
    "\n"
   ]
  },
  {
   "cell_type": "markdown",
   "metadata": {},
   "source": [
    "## Conditional Mutual Information bound check"
   ]
  },
  {
   "cell_type": "code",
   "execution_count": 3,
   "metadata": {},
   "outputs": [],
   "source": [
    "def compute_reduced_density_matrices(p_W):\n",
    "    p_A = p_random.ptrace([0])  # Tracing out B and C\n",
    "    p_B = p_random.ptrace([1])  # Tracing out A and C\n",
    "    p_C = p_random.ptrace([2])  # Tracing out A and B\n",
    "    p_AB = p_random.ptrace([0, 1])  # Tracing out C\n",
    "    p_AC = p_random.ptrace([0, 2])  # Tracing out B\n",
    "    p_BC = p_random.ptrace([1, 2])  # Tracing out A\n",
    "    return p_A, p_B, p_C, p_AB, p_AC, p_BC\n",
    "\n",
    "\n",
    "p_A, p_B, p_C, p_AB, p_AC, p_BC = compute_reduced_density_matrices(p_random)\n",
    "\n",
    "def compute_entropies(p_A, p_B, p_C, p_AB, p_AC, p_BC, p_W):\n",
    "    S_A = qt.entropy_vn(p_A)\n",
    "    S_B = qt.entropy_vn(p_B)\n",
    "    S_C = qt.entropy_vn(p_C)\n",
    "    S_AB = qt.entropy_vn(p_AB)\n",
    "    S_AC = qt.entropy_vn(p_AC)\n",
    "    S_BC = qt.entropy_vn(p_BC)\n",
    "    S_W = qt.entropy_vn(p_W)  # Total system entropy\n",
    "    return S_A, S_B, S_C, S_AB, S_AC, S_BC, S_W\n",
    "\n",
    "S_A, S_B, S_C, S_AB, S_AC, S_BC, S_W = compute_entropies(p_A, p_B, p_C, p_AB, p_AC, p_BC, p_random)\n"
   ]
  },
  {
   "cell_type": "code",
   "execution_count": 4,
   "metadata": {},
   "outputs": [
    {
     "name": "stdout",
     "output_type": "stream",
     "text": [
      "========================================\n",
      "Subsystem  |      Entropy\n",
      "========================================\n",
      "S(ρ_A)     |     0.234049\n",
      "S(ρ_B)     |     0.114002\n",
      "S(ρ_C)     |     0.239095\n",
      "S(ρ_AB)    |     0.239095\n",
      "S(ρ_AC)    |     0.114002\n",
      "S(ρ_BC)    |     0.234049\n",
      "S(ρ_W)     |     0.000000\n",
      "========================================\n"
     ]
    }
   ],
   "source": [
    "# Nicely formatted printout\n",
    "entropy_labels = [\"S(ρ_A)\", \"S(ρ_B)\", \"S(ρ_C)\", \"S(ρ_AB)\", \"S(ρ_AC)\", \"S(ρ_BC)\", \"S(ρ_W)\"]\n",
    "entropy_values = [S_A, S_B, S_C, S_AB, S_AC, S_BC, S_W]\n",
    "\n",
    "# Print header\n",
    "print(\"=\" * 40)\n",
    "print(f\"{'Subsystem':<10} | {'Entropy':>12}\")\n",
    "print(\"=\" * 40)\n",
    "\n",
    "# Print entropy values\n",
    "for label, value in zip(entropy_labels, entropy_values):\n",
    "    print(f\"{label:<10} | {value:12.6f}\")\n",
    "\n",
    "print(\"=\" * 40)\n"
   ]
  },
  {
   "cell_type": "markdown",
   "metadata": {},
   "source": [
    "## Compute the Conditional Mutual Information"
   ]
  },
  {
   "cell_type": "code",
   "execution_count": 5,
   "metadata": {},
   "outputs": [
    {
     "name": "stdout",
     "output_type": "stream",
     "text": [
      "Conditional mutual information I(A:B|C) = 0.10895603272771079\n"
     ]
    }
   ],
   "source": [
    "I_ABcC = S_AC + S_BC - S_W - S_C\n",
    "print(\"Conditional mutual information I(A:B|C) =\",I_ABcC)"
   ]
  },
  {
   "cell_type": "markdown",
   "metadata": {},
   "source": [
    "## Compute 3 possible bounds using Z operator"
   ]
  },
  {
   "cell_type": "code",
   "execution_count": 6,
   "metadata": {},
   "outputs": [
    {
     "name": "stdout",
     "output_type": "stream",
     "text": [
      "Density Matrix in Matrix Form:\n",
      "[[ 1.  0.  0.  0.  0.  0.  0.  0.]\n",
      " [ 0. -1.  0.  0.  0.  0.  0.  0.]\n",
      " [ 0.  0. -1.  0.  0.  0.  0.  0.]\n",
      " [ 0.  0.  0.  1.  0.  0.  0.  0.]\n",
      " [ 0.  0.  0.  0. -1.  0.  0.  0.]\n",
      " [ 0.  0.  0.  0.  0.  1.  0.  0.]\n",
      " [ 0.  0.  0.  0.  0.  0.  1.  0.]\n",
      " [ 0.  0.  0.  0.  0.  0.  0. -1.]]\n"
     ]
    }
   ],
   "source": [
    "#Z = (qt.sigmaz() + qt.sigmax())/(np.sqrt(2))\n",
    "Z = qt.sigmaz()\n",
    "Z_2 = qt.tensor(Z, Z)\n",
    "Z_full = qt.tensor(Z, Z, Z)\n",
    "\n",
    "\n",
    "avg_Z_A = (p_A * Z).tr()\n",
    "avg_Z_B = (p_B * Z).tr()\n",
    "avg_Z_C = (p_C * Z).tr()\n",
    "avg_Z_AC = (p_AC * Z_2).tr()\n",
    "avg_Z_BC = (p_BC * Z_2).tr()\n",
    "avg_Z_AB = (p_AB * Z_2).tr()\n",
    "avg_Z_full = (p_random * Z_full).tr()\n",
    "\n",
    "Z_norm = 1\n",
    "\n",
    "np.set_printoptions(linewidth=200, precision=3, suppress=True)\n",
    "print(\"Density Matrix in Matrix Form:\")\n",
    "print(np.real(Z_full.full()))\n"
   ]
  },
  {
   "cell_type": "code",
   "execution_count": 7,
   "metadata": {},
   "outputs": [
    {
     "name": "stdout",
     "output_type": "stream",
     "text": [
      "========================================\n",
      "Observable |    Expectation Value\n",
      "========================================\n",
      "⟨Z_A⟩      |  -0.098832+0.000000j\n",
      "⟨Z_B⟩      |  -0.194055+0.000000j\n",
      "⟨Z_C⟩      |  -0.050309+0.000000j\n",
      "⟨Z_AC⟩     |  -0.376072+0.000000j\n",
      "⟨Z_BC⟩     |   0.095760+0.000000j\n",
      "⟨Z_AB⟩     |   0.014750+0.000000j\n",
      "⟨Z_W⟩ (Full) |  -0.192115+0.000000j\n",
      "========================================\n"
     ]
    }
   ],
   "source": [
    "# Define labels and values\n",
    "z_labels = [\n",
    "    \"⟨Z_A⟩\", \"⟨Z_B⟩\", \"⟨Z_C⟩\",\n",
    "    \"⟨Z_AC⟩\", \"⟨Z_BC⟩\", \"⟨Z_AB⟩\",\n",
    "    \"⟨Z_W⟩ (Full)\"\n",
    "]\n",
    "z_values = [\n",
    "    avg_Z_A, avg_Z_B, avg_Z_C,\n",
    "    avg_Z_AC, avg_Z_BC, avg_Z_AB,\n",
    "    avg_Z_full\n",
    "]\n",
    "\n",
    "# Print header\n",
    "print(\"=\" * 40)\n",
    "print(f\"{'Observable':<10} | {'Expectation Value':>20}\")\n",
    "print(\"=\" * 40)\n",
    "\n",
    "# Print expectation values\n",
    "for label, value in zip(z_labels, z_values):\n",
    "    print(f\"{label:<10} | {value:20.6f}\")\n",
    "\n",
    "print(\"=\" * 40)\n"
   ]
  },
  {
   "cell_type": "code",
   "execution_count": 15,
   "metadata": {},
   "outputs": [],
   "source": [
    "Var_A = 1 - avg_Z_A**2\n",
    "Var_B = 1 - avg_Z_B**2\n",
    "C_AB = avg_Z_AB-avg_Z_A*avg_Z_B"
   ]
  },
  {
   "cell_type": "code",
   "execution_count": 19,
   "metadata": {},
   "outputs": [
    {
     "name": "stdout",
     "output_type": "stream",
     "text": [
      " f_1 =  -0.9913636641543664 \n",
      " f_2 =  -1.993910272068639 \n",
      " f_3 = 4.90333318349294e-06 \n",
      " f_4 =  1.8863046520502942\n"
     ]
    }
   ],
   "source": [
    "f_1 = 0.5*(((avg_Z_full-(avg_Z_A*avg_Z_BC))**2 + (avg_Z_full-(avg_Z_B*avg_Z_AC))**2)/(2*3*Z_norm**2)-2)\n",
    "f_2 = (avg_Z_full-avg_Z_A*avg_Z_B*avg_Z_C)**2/(2*3*Z_norm**2)-2\n",
    "f_3 = (C_AB)**2/(2*2*Z_norm**2) \n",
    "f_upper = 0.5*(1+C_AB**2/(Var_A*Var_B)+2*np.log(4))\n",
    "\n",
    "\n",
    "print(\" f_1 = \", np.real(f_1),\"\\n f_2 = \", np.real(f_2),\"\\n f_3 =\",np.real(f_3),\"\\n f_4 = \", np.real(f_upper))"
   ]
  }
 ],
 "metadata": {
  "kernelspec": {
   "display_name": "Python 3.9 (qutip)",
   "language": "python",
   "name": "myenv"
  },
  "language_info": {
   "codemirror_mode": {
    "name": "ipython",
    "version": 3
   },
   "file_extension": ".py",
   "mimetype": "text/x-python",
   "name": "python",
   "nbconvert_exporter": "python",
   "pygments_lexer": "ipython3",
   "version": "3.9.2"
  }
 },
 "nbformat": 4,
 "nbformat_minor": 2
}
