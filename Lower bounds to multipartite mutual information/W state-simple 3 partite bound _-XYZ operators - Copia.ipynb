{
 "cells": [
  {
   "cell_type": "code",
   "execution_count": 2,
   "metadata": {},
   "outputs": [
    {
     "name": "stdout",
     "output_type": "stream",
     "text": [
      "5.0.4\n"
     ]
    }
   ],
   "source": [
    "import qutip as qt\n",
    "import numpy as np\n",
    "print(qt.__version__)\n",
    "\n"
   ]
  },
  {
   "cell_type": "markdown",
   "metadata": {},
   "source": [
    "## First we define state and density matrix"
   ]
  },
  {
   "cell_type": "code",
   "execution_count": 3,
   "metadata": {},
   "outputs": [
    {
     "name": "stdout",
     "output_type": "stream",
     "text": [
      "W state:\n",
      "Quantum object: dims=[[2, 2, 2], [1, 1, 1]], shape=(8, 1), type='ket', dtype=Dense\n",
      "Qobj data =\n",
      "[[0.        ]\n",
      " [0.57735027]\n",
      " [0.57735027]\n",
      " [0.        ]\n",
      " [0.57735027]\n",
      " [0.        ]\n",
      " [0.        ]\n",
      " [0.        ]]\n",
      "Density Matrix in Matrix Form:\n",
      "\n",
      "[[0.    0.    0.    0.    0.    0.    0.    0.   ]\n",
      " [0.    0.333 0.333 0.    0.333 0.    0.    0.   ]\n",
      " [0.    0.333 0.333 0.    0.333 0.    0.    0.   ]\n",
      " [0.    0.    0.    0.    0.    0.    0.    0.   ]\n",
      " [0.    0.333 0.333 0.    0.333 0.    0.    0.   ]\n",
      " [0.    0.    0.    0.    0.    0.    0.    0.   ]\n",
      " [0.    0.    0.    0.    0.    0.    0.    0.   ]\n",
      " [0.    0.    0.    0.    0.    0.    0.    0.   ]]\n",
      "\n",
      " Entropy of the total system S(A,B,C) =  -4.269758091753807e-15\n"
     ]
    }
   ],
   "source": [
    "\n",
    "def create_w_state(n):\n",
    "    basis_states = [qt.basis([2]*n, [1 if i == j else 0 for i in range(n)]) for j in range(n)]\n",
    "    w_state = sum(basis_states) / np.sqrt(n)\n",
    "    return w_state\n",
    "\n",
    "def compute_density_matrix(state):\n",
    "    return state * state.dag()\n",
    "\n",
    "num_qubits = 3 \n",
    "w_state = create_w_state(num_qubits)\n",
    "p_W = compute_density_matrix(w_state)\n",
    "S_W = qt.entropy_vn(p_W)\n",
    "\n",
    "print(\"W state:\")\n",
    "print(w_state)\n",
    "np.set_printoptions(linewidth=200, precision=3, suppress=True)\n",
    "print(\"Density Matrix in Matrix Form:\\n\")\n",
    "print(np.real(p_W.full()))\n",
    "print(\"\\n Entropy of the total system S(A,B,C) = \",S_W)\n"
   ]
  },
  {
   "cell_type": "markdown",
   "metadata": {},
   "source": [
    "## Then we compute partial traces to get rdms and compute entropies"
   ]
  },
  {
   "cell_type": "code",
   "execution_count": 4,
   "metadata": {},
   "outputs": [
    {
     "name": "stdout",
     "output_type": "stream",
     "text": [
      "Reduced Density Matrix ρ_A:\n",
      " [[0.667 0.   ]\n",
      " [0.    0.333]] \n",
      " Von Neumann Entropy S(ρ_A): 0.636514 \n",
      "\n",
      "Reduced Density Matrix ρ_B:\n",
      " [[0.667 0.   ]\n",
      " [0.    0.333]] \n",
      " Von Neumann Entropy S(ρ_B): 0.636514 \n",
      "\n",
      "Reduced Density Matrix ρ_C:\n",
      " [[0.667 0.   ]\n",
      " [0.    0.333]] \n",
      " Von Neumann Entropy S(ρ_C): 0.636514 \n",
      "\n",
      "\n",
      " \n",
      " Total Information I(A:B:C) = S(A) + S(B) + S(C) - S(A,B,C) =  1.9095425048844425\n"
     ]
    }
   ],
   "source": [
    "\n",
    "p_A = p_W.ptrace([0])  \n",
    "p_B = p_W.ptrace([1])  \n",
    "p_C = p_W.ptrace([2])  \n",
    "\n",
    "\n",
    "S_A = qt.entropy_vn(p_A)\n",
    "S_B = qt.entropy_vn(p_B)\n",
    "S_C = qt.entropy_vn(p_C)\n",
    "\n",
    "I_ABC = S_A + S_B + S_C - S_W\n",
    "\n",
    "np.set_printoptions(linewidth=200, precision=3, suppress=True)\n",
    "\n",
    "print(\"Reduced Density Matrix ρ_A:\\n\", np.real(p_A.full()), \"\\n\",f\"Von Neumann Entropy S(ρ_A): {S_A:.6f} \\n\")\n",
    "print(\"Reduced Density Matrix ρ_B:\\n\", np.real(p_B.full()), \"\\n\",f\"Von Neumann Entropy S(ρ_B): {S_B:.6f} \\n\")\n",
    "print(\"Reduced Density Matrix ρ_C:\\n\", np.real(p_C.full()), \"\\n\",f\"Von Neumann Entropy S(ρ_C): {S_C:.6f} \\n\")\n",
    "print(\"\\n \\n Total Information I(A:B:C) = S(A) + S(B) + S(C) - S(A,B,C) = \",I_ABC)"
   ]
  },
  {
   "cell_type": "markdown",
   "metadata": {},
   "source": [
    "## Now we work with some operators correlations, first Z:"
   ]
  },
  {
   "cell_type": "code",
   "execution_count": 5,
   "metadata": {},
   "outputs": [
    {
     "name": "stdout",
     "output_type": "stream",
     "text": [
      "Tr(p_W * (σ_z ⊗ σ_z ⊗ σ_z)): -1.000000\n",
      "Tr_A(p_A * σ_z): 0.333333\n",
      "Tr_B(p_B * σ_z): 0.333333\n",
      "Tr_C(p_C * σ_z): 0.333333\n",
      "Operator norm of σ_z: 2.000000\n"
     ]
    }
   ],
   "source": [
    "Z = qt.sigmaz()\n",
    "\n",
    "Z_full = qt.tensor(Z, Z, Z)\n",
    "avg_Z_full = (p_W * Z_full).tr()\n",
    "\n",
    "avg_Z_A = (p_A * Z).tr()\n",
    "avg_Z_B = (p_B * Z).tr()\n",
    "avg_Z_C = (p_C * Z).tr()\n",
    "\n",
    "Z_norm = Z.norm()\n",
    "\n",
    "print(f\"Tr(p_W * (σ_z ⊗ σ_z ⊗ σ_z)): {avg_Z_full:.6f}\")\n",
    "print(f\"Tr_A(p_A * σ_z): {avg_Z_A:.6f}\")\n",
    "print(f\"Tr_B(p_B * σ_z): {avg_Z_B:.6f}\")\n",
    "print(f\"Tr_C(p_C * σ_z): {avg_Z_C:.6f}\")\n",
    "print(f\"Operator norm of σ_z: {Z_norm:.6f}\")\n"
   ]
  },
  {
   "cell_type": "code",
   "execution_count": 6,
   "metadata": {},
   "outputs": [
    {
     "name": "stdout",
     "output_type": "stream",
     "text": [
      "Concluding for Z we have that I(A,B,C) =  1.9095425048844425 While the lower bound is f_ABC =  0.04481024234110655\n"
     ]
    }
   ],
   "source": [
    "C_ABC_z = avg_Z_full - avg_Z_A*avg_Z_B*avg_Z_C\n",
    "f_ABC_z = (C_ABC_z**2)/(2*3*Z_norm**2)\n",
    "\n",
    "print(\"Concluding for Z we have that I(A,B,C) = \", I_ABC, \"While the lower bound is f_ABC = \", f_ABC_z)"
   ]
  },
  {
   "cell_type": "markdown",
   "metadata": {},
   "source": [
    "## Then X"
   ]
  },
  {
   "cell_type": "code",
   "execution_count": 7,
   "metadata": {},
   "outputs": [
    {
     "name": "stdout",
     "output_type": "stream",
     "text": [
      "Tr(p_W * (σ_x ⊗ σ_x ⊗ σ_x)): 0.000000+0.000000j\n",
      "Tr_A(p_A * σ_x): 0.000000+0.000000j\n",
      "Tr_B(p_B * σ_x): 0.000000+0.000000j\n",
      "Tr_C(p_C * σ_x): 0.000000+0.000000j\n",
      "Operator norm of σ_x: 2.000000\n"
     ]
    }
   ],
   "source": [
    "x = qt.sigmax()\n",
    "\n",
    "x_full = qt.tensor(x, x, x)\n",
    "avg_x_full = (p_W * x_full).tr()\n",
    "\n",
    "avg_x_A = (p_A * x).tr()\n",
    "avg_x_B = (p_B * x).tr()\n",
    "avg_x_C = (p_C * x).tr()\n",
    "\n",
    "x_norm = x.norm()\n",
    "\n",
    "print(f\"Tr(p_W * (σ_x ⊗ σ_x ⊗ σ_x)): {avg_x_full:.6f}\")\n",
    "print(f\"Tr_A(p_A * σ_x): {avg_x_A:.6f}\")\n",
    "print(f\"Tr_B(p_B * σ_x): {avg_x_B:.6f}\")\n",
    "print(f\"Tr_C(p_C * σ_x): {avg_x_C:.6f}\")\n",
    "print(f\"Operator norm of σ_x: {x_norm:.6f}\")"
   ]
  },
  {
   "cell_type": "code",
   "execution_count": 8,
   "metadata": {},
   "outputs": [
    {
     "name": "stdout",
     "output_type": "stream",
     "text": [
      "Concluding for X we have that I(A,B,C) =  1.9095425048844425 While the lower bound is f_ABC =  0j\n"
     ]
    }
   ],
   "source": [
    "C_ABC_x = avg_x_full - avg_x_A*avg_x_B*avg_x_C\n",
    "f_ABC_x = (C_ABC_x**2)/(2*3*x_norm**2)\n",
    "\n",
    "print(\"Concluding for X we have that I(A,B,C) = \", I_ABC, \"While the lower bound is f_ABC = \", f_ABC_x)"
   ]
  },
  {
   "cell_type": "markdown",
   "metadata": {},
   "source": [
    "## And for Y:"
   ]
  },
  {
   "cell_type": "code",
   "execution_count": 9,
   "metadata": {},
   "outputs": [
    {
     "name": "stdout",
     "output_type": "stream",
     "text": [
      "Tr(p_W * (σ_y ⊗ σ_y ⊗ σ_y)): 0.000000+0.000000j\n",
      "Tr_A(p_A * σ_y): 0.000000+0.000000j\n",
      "Tr_B(p_B * σ_y): 0.000000+0.000000j\n",
      "Tr_C(p_C * σ_y): 0.000000+0.000000j\n",
      "Operator norm of σ_y: 2.000000\n"
     ]
    }
   ],
   "source": [
    "y = qt.sigmay()\n",
    "\n",
    "y_full = qt.tensor(y, y, y)\n",
    "avg_y_full = (p_W * y_full).tr()\n",
    "\n",
    "avg_y_A = (p_A * y).tr()\n",
    "avg_y_B = (p_B * y).tr()\n",
    "avg_y_C = (p_C * y).tr()\n",
    "\n",
    "y_norm = y.norm()\n",
    "\n",
    "print(f\"Tr(p_W * (σ_y ⊗ σ_y ⊗ σ_y)): {avg_y_full:.6f}\")\n",
    "print(f\"Tr_A(p_A * σ_y): {avg_y_A:.6f}\")\n",
    "print(f\"Tr_B(p_B * σ_y): {avg_y_B:.6f}\")\n",
    "print(f\"Tr_C(p_C * σ_y): {avg_y_C:.6f}\")\n",
    "print(f\"Operator norm of σ_y: {y_norm:.6f}\")"
   ]
  },
  {
   "cell_type": "code",
   "execution_count": 10,
   "metadata": {},
   "outputs": [
    {
     "name": "stdout",
     "output_type": "stream",
     "text": [
      "Concluding for Y we have that I(A,B,C) =  1.9095425048844425 While the lower bound is f_ABC =  0j\n"
     ]
    }
   ],
   "source": [
    "C_ABC_y = avg_y_full - avg_y_A*avg_y_B*avg_y_C\n",
    "f_ABC_y = (C_ABC_y**2)/(2*3*y_norm**2)\n",
    "\n",
    "print(\"Concluding for Y we have that I(A,B,C) = \", I_ABC, \"While the lower bound is f_ABC = \", f_ABC_y)"
   ]
  },
  {
   "cell_type": "markdown",
   "metadata": {},
   "source": [
    "## What if I try to mix them?"
   ]
  },
  {
   "cell_type": "code",
   "execution_count": 11,
   "metadata": {},
   "outputs": [
    {
     "name": "stdout",
     "output_type": "stream",
     "text": [
      "Concluding for a mix of the 3 operators we have that I(A,B,C) =  1.9095425048844425 While the lower bound is f_ABC =  0j\n"
     ]
    }
   ],
   "source": [
    "Mix_operator = qt.tensor(x, y, Z)\n",
    "full_mix_avg = (p_W * Mix_operator).tr()\n",
    "C_ABC_MIX = full_mix_avg - avg_x_A*avg_y_B*avg_Z_C\n",
    "f_ABC_MIX = (C_ABC_MIX**2)/(2*x_norm**2*y_norm**2*Z_norm**2)\n",
    "print(\"Concluding for a mix of the 3 operators we have that I(A,B,C) = \", I_ABC, \"While the lower bound is f_ABC = \", f_ABC_MIX)"
   ]
  }
 ],
 "metadata": {
  "kernelspec": {
   "display_name": "Python 3.9 (qutip)",
   "language": "python",
   "name": "myenv"
  },
  "language_info": {
   "codemirror_mode": {
    "name": "ipython",
    "version": 3
   },
   "file_extension": ".py",
   "mimetype": "text/x-python",
   "name": "python",
   "nbconvert_exporter": "python",
   "pygments_lexer": "ipython3",
   "version": "3.9.2"
  }
 },
 "nbformat": 4,
 "nbformat_minor": 2
}
