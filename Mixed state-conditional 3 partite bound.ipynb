{
 "cells": [
  {
   "cell_type": "code",
   "execution_count": 1,
   "metadata": {},
   "outputs": [
    {
     "name": "stdout",
     "output_type": "stream",
     "text": [
      "5.0.4\n"
     ]
    }
   ],
   "source": [
    "import qutip as qt\n",
    "import numpy as np\n",
    "print(qt.__version__)\n"
   ]
  },
  {
   "cell_type": "markdown",
   "metadata": {},
   "source": [
    "## First we define state and density matrix"
   ]
  },
  {
   "cell_type": "code",
   "execution_count": 2,
   "metadata": {},
   "outputs": [
    {
     "name": "stdout",
     "output_type": "stream",
     "text": [
      "Density Matrix in Matrix Form:\n",
      "[[0.109 0.119 0.117 0.091 0.094 0.113 0.104 0.119]\n",
      " [0.119 0.145 0.14  0.124 0.109 0.13  0.116 0.144]\n",
      " [0.117 0.14  0.147 0.125 0.113 0.141 0.103 0.144]\n",
      " [0.091 0.124 0.125 0.119 0.094 0.114 0.086 0.125]\n",
      " [0.094 0.109 0.113 0.094 0.087 0.108 0.085 0.112]\n",
      " [0.113 0.13  0.141 0.114 0.108 0.138 0.097 0.136]\n",
      " [0.104 0.116 0.103 0.086 0.085 0.097 0.108 0.112]\n",
      " [0.119 0.144 0.144 0.125 0.112 0.136 0.112 0.145]]\n"
     ]
    }
   ],
   "source": [
    "\n",
    "def create_random_state(n):\n",
    "    basis_states = [qt.basis([2]*n, [int(i) for i in format(j, f'0{n}b')]) for j in range(2**n)]\n",
    "    \n",
    "    random_probs = np.random.rand(2**n)\n",
    "    random_probs /= np.sum(random_probs)  # Normalize to sum to 1\n",
    "    \n",
    "    coefficients = np.sqrt(random_probs)\n",
    "   \n",
    "    random_state = sum(coeff * basis for coeff, basis in zip(coefficients, basis_states))\n",
    "    return random_state\n",
    "\n",
    "def compute_density_matrix(state):\n",
    "    return state * state.dag()\n",
    "\n",
    "num_qubits = 3  \n",
    "\n",
    "random_state_1 = create_random_state(num_qubits)\n",
    "random_state_2 = create_random_state(num_qubits)\n",
    "random_state_3 = create_random_state(num_qubits)\n",
    "\n",
    "p_random_1 = compute_density_matrix(random_state_1)\n",
    "p_random_2 = compute_density_matrix(random_state_2)\n",
    "p_random_3 = compute_density_matrix(random_state_3)\n",
    "\n",
    "p_mixed = (1/3) * (p_random_1 + p_random_2 + p_random_3)\n",
    "\n",
    "\n",
    "np.set_printoptions(linewidth=200, precision=3, suppress=True)\n",
    "print(\"Density Matrix in Matrix Form:\")\n",
    "print(np.real(p_mixed.full()))\n",
    "\n"
   ]
  },
  {
   "cell_type": "markdown",
   "metadata": {},
   "source": [
    "## Conditional Mutual Information bound check"
   ]
  },
  {
   "cell_type": "code",
   "execution_count": 19,
   "metadata": {},
   "outputs": [],
   "source": [
    "def compute_reduced_density_matrices(p_W):\n",
    "    p_A = p_mixed.ptrace([0])  # Tracing out B and C\n",
    "    p_B = p_mixed.ptrace([1])  # Tracing out A and C\n",
    "    p_C = p_mixed.ptrace([2])  # Tracing out A and B\n",
    "    p_AB = p_mixed.ptrace([0, 1])  # Tracing out C\n",
    "    p_AC = p_mixed.ptrace([0, 2])  # Tracing out B\n",
    "    p_BC = p_mixed.ptrace([1, 2])  # Tracing out A\n",
    "    return p_A, p_B, p_C, p_AB, p_AC, p_BC\n",
    "\n",
    "\n",
    "p_A, p_B, p_C, p_AB, p_AC, p_BC = compute_reduced_density_matrices(p_mixed)\n",
    "\n",
    "def compute_entropies(p_A, p_B, p_C, p_AB, p_AC, p_BC, p_W):\n",
    "    S_A = qt.entropy_vn(p_A)\n",
    "    S_B = qt.entropy_vn(p_B)\n",
    "    S_C = qt.entropy_vn(p_C)\n",
    "    S_AB = qt.entropy_vn(p_AB)\n",
    "    S_AC = qt.entropy_vn(p_AC)\n",
    "    S_BC = qt.entropy_vn(p_BC)\n",
    "    S_W = qt.entropy_vn(p_W)  # Total system entropy\n",
    "    return S_A, S_B, S_C, S_AB, S_AC, S_BC, S_W\n",
    "\n",
    "S_A, S_B, S_C, S_AB, S_AC, S_BC, S_mixed = compute_entropies(p_A, p_B, p_C, p_AB, p_AC, p_BC, p_mixed)\n"
   ]
  },
  {
   "cell_type": "code",
   "execution_count": 21,
   "metadata": {},
   "outputs": [
    {
     "name": "stdout",
     "output_type": "stream",
     "text": [
      "========================================\n",
      "Subsystem  |      Entropy\n",
      "========================================\n",
      "S(ρ_A)     |     0.190994\n",
      "S(ρ_B)     |     0.161801\n",
      "S(ρ_C)     |     0.145843\n",
      "S(ρ_AB)    |     0.259690\n",
      "S(ρ_AC)    |     0.280071\n",
      "S(ρ_BC)    |     0.286711\n",
      "S(ρ_mixed) |     0.271307\n",
      "========================================\n"
     ]
    }
   ],
   "source": [
    "# Nicely formatted printout\n",
    "entropy_labels = [\"S(ρ_A)\", \"S(ρ_B)\", \"S(ρ_C)\", \"S(ρ_AB)\", \"S(ρ_AC)\", \"S(ρ_BC)\", \"S(ρ_mixed)\"]\n",
    "entropy_values = [S_A, S_B, S_C, S_AB, S_AC, S_BC, S_mixed]\n",
    "\n",
    "# Print header\n",
    "print(\"=\" * 40)\n",
    "print(f\"{'Subsystem':<10} | {'Entropy':>12}\")\n",
    "print(\"=\" * 40)\n",
    "\n",
    "# Print entropy values\n",
    "for label, value in zip(entropy_labels, entropy_values):\n",
    "    print(f\"{label:<10} | {value:12.6f}\")\n",
    "\n",
    "print(\"=\" * 40)\n"
   ]
  },
  {
   "cell_type": "markdown",
   "metadata": {},
   "source": [
    "## Compute the Conditional Mutual Information"
   ]
  },
  {
   "cell_type": "code",
   "execution_count": 27,
   "metadata": {},
   "outputs": [
    {
     "name": "stdout",
     "output_type": "stream",
     "text": [
      "Conditional mutual information I(A:B|C) = 0.14963102178054116\n"
     ]
    }
   ],
   "source": [
    "I_ABcC = S_AC + S_BC - S_mixed - S_C\n",
    "print(\"Conditional mutual information I(A:B|C) =\",I_ABcC)"
   ]
  },
  {
   "cell_type": "markdown",
   "metadata": {},
   "source": [
    "## Compute 3 possible bounds using Z operator"
   ]
  },
  {
   "cell_type": "code",
   "execution_count": 23,
   "metadata": {},
   "outputs": [],
   "source": [
    "Z = qt.sigmaz()\n",
    "Z_2 = qt.tensor(Z, Z)\n",
    "Z_full = qt.tensor(Z, Z, Z)\n",
    "\n",
    "\n",
    "avg_Z_A = (p_A * Z).tr()\n",
    "avg_Z_B = (p_B * Z).tr()\n",
    "avg_Z_C = (p_C * Z).tr()\n",
    "avg_Z_AC = (p_AC * Z_2).tr()\n",
    "avg_Z_BC = (p_BC * Z_2).tr()\n",
    "avg_Z_AB = (p_AB * Z_2).tr()\n",
    "avg_Z_full = (p_mixed * Z_full).tr()\n",
    "\n",
    "Z_norm = 1\n",
    "\n"
   ]
  },
  {
   "cell_type": "code",
   "execution_count": 24,
   "metadata": {},
   "outputs": [
    {
     "name": "stdout",
     "output_type": "stream",
     "text": [
      "========================================\n",
      "Observable |    Expectation Value\n",
      "========================================\n",
      "⟨Z_A⟩      |   0.042221+0.000000j\n",
      "⟨Z_B⟩      |  -0.039808+0.000000j\n",
      "⟨Z_C⟩      |  -0.095856+0.000000j\n",
      "⟨Z_AC⟩     |   0.081358+0.000000j\n",
      "⟨Z_BC⟩     |  -0.077151+0.000000j\n",
      "⟨Z_AB⟩     |   0.015454+0.000000j\n",
      "⟨Z_W⟩ (Full) |  -0.050608+0.000000j\n",
      "========================================\n"
     ]
    }
   ],
   "source": [
    "# Define labels and values\n",
    "z_labels = [\n",
    "    \"⟨Z_A⟩\", \"⟨Z_B⟩\", \"⟨Z_C⟩\",\n",
    "    \"⟨Z_AC⟩\", \"⟨Z_BC⟩\", \"⟨Z_AB⟩\",\n",
    "    \"⟨Z_W⟩ (Full)\"\n",
    "]\n",
    "z_values = [\n",
    "    avg_Z_A, avg_Z_B, avg_Z_C,\n",
    "    avg_Z_AC, avg_Z_BC, avg_Z_AB,\n",
    "    avg_Z_full\n",
    "]\n",
    "\n",
    "# Print header\n",
    "print(\"=\" * 40)\n",
    "print(f\"{'Observable':<10} | {'Expectation Value':>20}\")\n",
    "print(\"=\" * 40)\n",
    "\n",
    "# Print expectation values\n",
    "for label, value in zip(z_labels, z_values):\n",
    "    print(f\"{label:<10} | {value:20.6f}\")\n",
    "\n",
    "print(\"=\" * 40)\n"
   ]
  },
  {
   "cell_type": "code",
   "execution_count": 35,
   "metadata": {},
   "outputs": [
    {
     "name": "stdout",
     "output_type": "stream",
     "text": [
      " f_1 =  -0.9996261750323719 \n",
      " f_2 =  -1.9995704193951211 \n",
      " f_3 = -2.999401534385634 \n",
      " f_4 =  1.547898872158488e-05\n"
     ]
    }
   ],
   "source": [
    "f_1 = 0.5*(((avg_Z_full-(avg_Z_A*avg_Z_BC))**2 + (avg_Z_full-(avg_Z_B*avg_Z_AC))**2)/(2*3*Z_norm**2)-2)\n",
    "f_2 = (avg_Z_full-avg_Z_A*avg_Z_B*avg_Z_C)**2/(2*3*Z_norm**2)-2\n",
    "f_3 = (np.real(avg_Z_full)-np.real(avg_Z_A)*np.real(avg_Z_B))**2/(2*2*Z_norm**2) -3\n",
    "f_4 = (avg_Z_full*avg_Z_C - avg_Z_AC*avg_Z_BC)**2/(2*4*Z_norm**2)\n",
    "\n",
    "print(\" f_1 = \", np.real(f_1),\"\\n f_2 = \", np.real(f_2),\"\\n f_3 =\",np.real(f_3),\"\\n f_4 = \", np.real(f_4))"
   ]
  }
 ],
 "metadata": {
  "kernelspec": {
   "display_name": "Python 3.9 (qutip)",
   "language": "python",
   "name": "myenv"
  },
  "language_info": {
   "codemirror_mode": {
    "name": "ipython",
    "version": 3
   },
   "file_extension": ".py",
   "mimetype": "text/x-python",
   "name": "python",
   "nbconvert_exporter": "python",
   "pygments_lexer": "ipython3",
   "version": "3.9.2"
  }
 },
 "nbformat": 4,
 "nbformat_minor": 2
}
