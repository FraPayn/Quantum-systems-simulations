{
 "cells": [
  {
   "cell_type": "code",
   "execution_count": 1,
   "metadata": {},
   "outputs": [
    {
     "name": "stdout",
     "output_type": "stream",
     "text": [
      "5.0.4\n"
     ]
    }
   ],
   "source": [
    "import qutip as qt\n",
    "import numpy as np\n",
    "print(qt.__version__)\n",
    "\n"
   ]
  },
  {
   "cell_type": "markdown",
   "metadata": {},
   "source": [
    "## First we define a random 3 qubit state and its density matrix"
   ]
  },
  {
   "cell_type": "code",
   "execution_count": null,
   "metadata": {},
   "outputs": [
    {
     "name": "stdout",
     "output_type": "stream",
     "text": [
      "Random state:\n",
      "Quantum object: dims=[[2, 2, 2], [1, 1, 1]], shape=(8, 1), type='ket', dtype=Dense\n",
      "Qobj data =\n",
      "[[0.4665109 ]\n",
      " [0.08250118]\n",
      " [0.17936138]\n",
      " [0.42200354]\n",
      " [0.23716733]\n",
      " [0.24956882]\n",
      " [0.42094372]\n",
      " [0.51920813]]\n",
      "Density Matrix in Matrix Form:\n",
      "[[0.218 0.038 0.084 0.197 0.111 0.116 0.196 0.242]\n",
      " [0.038 0.007 0.015 0.035 0.02  0.021 0.035 0.043]\n",
      " [0.084 0.015 0.032 0.076 0.043 0.045 0.076 0.093]\n",
      " [0.197 0.035 0.076 0.178 0.1   0.105 0.178 0.219]\n",
      " [0.111 0.02  0.043 0.1   0.056 0.059 0.1   0.123]\n",
      " [0.116 0.021 0.045 0.105 0.059 0.062 0.105 0.13 ]\n",
      " [0.196 0.035 0.076 0.178 0.1   0.105 0.177 0.219]\n",
      " [0.242 0.043 0.093 0.219 0.123 0.13  0.219 0.27 ]]\n",
      "\n",
      "Entropy of the total system S(A,B,C) = 5.19230331189701e-15\n"
     ]
    }
   ],
   "source": [
    "def create_random_state(n):\n",
    "    basis_states = [qt.basis([2]*n, [int(i) for i in format(j, f'0{n}b')]) for j in range(2**n)]\n",
    "    \n",
    "    random_probs = np.random.rand(2**n)\n",
    "    random_probs /= np.sum(random_probs)  # Normalize to sum to 1\n",
    "    \n",
    "    coefficients = np.sqrt(random_probs)\n",
    "   \n",
    "    random_state = sum(coeff * basis for coeff, basis in zip(coefficients, basis_states))\n",
    "    return random_state\n",
    "\n",
    "def compute_density_matrix(state):\n",
    "    return state * state.dag()\n",
    "\n",
    "num_qubits = 3  \n",
    "\n",
    "random_state = create_random_state(num_qubits)\n",
    "\n",
    "p_random = compute_density_matrix(random_state)\n",
    "\n",
    "S_random = qt.entropy_vn(p_random)\n",
    "\n",
    "print(\"Random state:\")\n",
    "print(random_state)\n",
    "np.set_printoptions(linewidth=200, precision=3, suppress=True)\n",
    "print(\"Density Matrix in Matrix Form:\")\n",
    "print(np.real(p_random.full()))\n",
    "print(\"\\nEntropy of the total system S(A,B,C) =\", S_random)\n",
    "\n"
   ]
  },
  {
   "cell_type": "code",
   "execution_count": null,
   "metadata": {},
   "outputs": [
    {
     "name": "stdout",
     "output_type": "stream",
     "text": [
      "Sum of squared coefficients: 1.000000\n"
     ]
    }
   ],
   "source": [
    "def verify_normalization(state):\n",
    "    \"\"\"Computes the sum of the squares of the coefficients of a quantum state.\"\"\"\n",
    "    coefficients = state.full().flatten()  \n",
    "    norm_sum = np.sum(np.abs(coefficients) ** 2)  \n",
    "    return norm_sum\n",
    "\n",
    "norm_check = verify_normalization(random_state)\n",
    "print(f\"Sum of squared coefficients: {norm_check:.6f}\")  \n"
   ]
  },
  {
   "cell_type": "markdown",
   "metadata": {},
   "source": [
    "## Then we compute partial traces to get rdms and compute entropies"
   ]
  },
  {
   "cell_type": "code",
   "execution_count": 4,
   "metadata": {},
   "outputs": [
    {
     "name": "stdout",
     "output_type": "stream",
     "text": [
      "Reduced Density Matrix ρ_A:\n",
      " [[0.435 0.426]\n",
      " [0.426 0.565]] \n",
      " Von Neumann Entropy S(ρ_A): 0.251519 \n",
      "\n",
      "Reduced Density Matrix ρ_B:\n",
      " [[0.343 0.348]\n",
      " [0.348 0.657]] \n",
      " Von Neumann Entropy S(ρ_B): 0.363527 \n",
      "\n",
      "Reduced Density Matrix ρ_C:\n",
      " [[0.483 0.392]\n",
      " [0.392 0.517]] \n",
      " Von Neumann Entropy S(ρ_C): 0.341714 \n",
      "\n",
      "\n",
      " \n",
      " Total Information I(A:B:C) = S(A) + S(B) + S(C) - S(A,B,C) =  0.9567595060825086\n"
     ]
    }
   ],
   "source": [
    "\n",
    "p_A = p_random.ptrace([0])  \n",
    "p_B = p_random.ptrace([1])  \n",
    "p_C = p_random.ptrace([2])  \n",
    "\n",
    "\n",
    "S_A = qt.entropy_vn(p_A)\n",
    "S_B = qt.entropy_vn(p_B)\n",
    "S_C = qt.entropy_vn(p_C)\n",
    "\n",
    "I_ABC = S_A + S_B + S_C - S_random\n",
    "\n",
    "np.set_printoptions(linewidth=200, precision=3, suppress=True)\n",
    "\n",
    "print(\"Reduced Density Matrix ρ_A:\\n\", np.real(p_A.full()), \"\\n\",f\"Von Neumann Entropy S(ρ_A): {S_A:.6f} \\n\")\n",
    "print(\"Reduced Density Matrix ρ_B:\\n\", np.real(p_B.full()), \"\\n\",f\"Von Neumann Entropy S(ρ_B): {S_B:.6f} \\n\")\n",
    "print(\"Reduced Density Matrix ρ_C:\\n\", np.real(p_C.full()), \"\\n\",f\"Von Neumann Entropy S(ρ_C): {S_C:.6f} \\n\")\n",
    "print(\"\\n \\n Total Information I(A:B:C) = S(A) + S(B) + S(C) - S(A,B,C) = \",I_ABC)"
   ]
  },
  {
   "cell_type": "markdown",
   "metadata": {},
   "source": [
    "## Now we work with some operators correlations, first Z:"
   ]
  },
  {
   "cell_type": "code",
   "execution_count": 5,
   "metadata": {},
   "outputs": [
    {
     "name": "stdout",
     "output_type": "stream",
     "text": [
      "Tr(p_W * (σ_z ⊗ σ_z ⊗ σ_z)): 0.270395+0.000000j\n",
      "Tr_A(p_A * σ_z): -0.130607+0.000000j\n",
      "Tr_B(p_B * σ_z): -0.314056+0.000000j\n",
      "Tr_C(p_C * σ_z): -0.033510+0.000000j\n",
      "Operator norm of σ_z: 2.000000\n"
     ]
    }
   ],
   "source": [
    "Z = qt.sigmaz()\n",
    "\n",
    "Z_full = qt.tensor(Z, Z, Z)\n",
    "avg_Z_full = (p_random * Z_full).tr()\n",
    "\n",
    "avg_Z_A = (p_A * Z).tr()\n",
    "avg_Z_B = (p_B * Z).tr()\n",
    "avg_Z_C = (p_C * Z).tr()\n",
    "\n",
    "Z_norm = Z.norm()\n",
    "\n",
    "print(f\"Tr(p_W * (σ_z ⊗ σ_z ⊗ σ_z)): {avg_Z_full:.6f}\")\n",
    "print(f\"Tr_A(p_A * σ_z): {avg_Z_A:.6f}\")\n",
    "print(f\"Tr_B(p_B * σ_z): {avg_Z_B:.6f}\")\n",
    "print(f\"Tr_C(p_C * σ_z): {avg_Z_C:.6f}\")\n",
    "print(f\"Operator norm of σ_z: {Z_norm:.6f}\")\n"
   ]
  },
  {
   "cell_type": "code",
   "execution_count": 7,
   "metadata": {},
   "outputs": [
    {
     "name": "stdout",
     "output_type": "stream",
     "text": [
      "Concluding for Z we have that I(A,B,C) =  0.9567595060825086 While the lower bound is f_ABC =  0.0030774504215273\n"
     ]
    }
   ],
   "source": [
    "C_ABC_z = avg_Z_full - avg_Z_A*avg_Z_B*avg_Z_C\n",
    "f_ABC_z = (C_ABC_z**2)/(2*3*Z_norm**2)\n",
    "\n",
    "print(\"Concluding for Z we have that I(A,B,C) = \", I_ABC, \"While the lower bound is f_ABC = \", np.real(f_ABC_z))"
   ]
  },
  {
   "cell_type": "markdown",
   "metadata": {},
   "source": [
    "## Then X"
   ]
  },
  {
   "cell_type": "code",
   "execution_count": 8,
   "metadata": {},
   "outputs": [
    {
     "name": "stdout",
     "output_type": "stream",
     "text": [
      "Tr(p_W * (σ_x ⊗ σ_x ⊗ σ_x)): 0.843586+0.000000j\n",
      "Tr_A(p_A * σ_x): 0.851679+0.000000j\n",
      "Tr_B(p_B * σ_x): 0.695804+0.000000j\n",
      "Tr_C(p_C * σ_x): 0.783852+0.000000j\n",
      "Operator norm of σ_x: 2.000000\n"
     ]
    }
   ],
   "source": [
    "x = qt.sigmax()\n",
    "\n",
    "x_full = qt.tensor(x, x, x)\n",
    "avg_x_full = (p_random * x_full).tr()\n",
    "\n",
    "avg_x_A = (p_A * x).tr()\n",
    "avg_x_B = (p_B * x).tr()\n",
    "avg_x_C = (p_C * x).tr()\n",
    "\n",
    "x_norm = x.norm()\n",
    "\n",
    "print(f\"Tr(p_W * (σ_x ⊗ σ_x ⊗ σ_x)): {avg_x_full:.6f}\")\n",
    "print(f\"Tr_A(p_A * σ_x): {avg_x_A:.6f}\")\n",
    "print(f\"Tr_B(p_B * σ_x): {avg_x_B:.6f}\")\n",
    "print(f\"Tr_C(p_C * σ_x): {avg_x_C:.6f}\")\n",
    "print(f\"Operator norm of σ_x: {x_norm:.6f}\")"
   ]
  },
  {
   "cell_type": "code",
   "execution_count": 9,
   "metadata": {},
   "outputs": [
    {
     "name": "stdout",
     "output_type": "stream",
     "text": [
      "Concluding for X we have that I(A,B,C) =  0.9567595060825086 While the lower bound is f_ABC =  0.005987384231554014\n"
     ]
    }
   ],
   "source": [
    "C_ABC_x = avg_x_full - avg_x_A*avg_x_B*avg_x_C\n",
    "f_ABC_x = (C_ABC_x**2)/(2*3*x_norm**2)\n",
    "\n",
    "print(\"Concluding for X we have that I(A,B,C) = \", I_ABC, \"While the lower bound is f_ABC = \", np.real(f_ABC_x))"
   ]
  },
  {
   "cell_type": "markdown",
   "metadata": {},
   "source": [
    "## And for Y:"
   ]
  },
  {
   "cell_type": "code",
   "execution_count": 11,
   "metadata": {},
   "outputs": [
    {
     "name": "stdout",
     "output_type": "stream",
     "text": [
      "Tr(p_W * (σ_y ⊗ σ_y ⊗ σ_y)): 0.000000+0.000000j\n",
      "Tr_A(p_A * σ_y): 0.000000+0.000000j\n",
      "Tr_B(p_B * σ_y): 0.000000+0.000000j\n",
      "Tr_C(p_C * σ_y): 0.000000+0.000000j\n",
      "Operator norm of σ_y: 2.000000\n"
     ]
    }
   ],
   "source": [
    "y = qt.sigmay()\n",
    "\n",
    "y_full = qt.tensor(y, y, y)\n",
    "avg_y_full = (p_random * y_full).tr()\n",
    "\n",
    "avg_y_A = (p_A * y).tr()\n",
    "avg_y_B = (p_B * y).tr()\n",
    "avg_y_C = (p_C * y).tr()\n",
    "\n",
    "y_norm = y.norm()\n",
    "\n",
    "print(f\"Tr(p_W * (σ_y ⊗ σ_y ⊗ σ_y)): {avg_y_full:.6f}\")\n",
    "print(f\"Tr_A(p_A * σ_y): {avg_y_A:.6f}\")\n",
    "print(f\"Tr_B(p_B * σ_y): {avg_y_B:.6f}\")\n",
    "print(f\"Tr_C(p_C * σ_y): {avg_y_C:.6f}\")\n",
    "print(f\"Operator norm of σ_y: {y_norm:.6f}\")"
   ]
  },
  {
   "cell_type": "code",
   "execution_count": 13,
   "metadata": {},
   "outputs": [
    {
     "name": "stdout",
     "output_type": "stream",
     "text": [
      "Concluding for Y we have that I(A,B,C) =  0.9567595060825086 While the lower bound is f_ABC =  -3.209883240645393e-35\n"
     ]
    }
   ],
   "source": [
    "C_ABC_y = avg_y_full - avg_y_A*avg_y_B*avg_y_C\n",
    "f_ABC_y = (C_ABC_y**2)/(2*3*y_norm**2)\n",
    "\n",
    "print(\"Concluding for Y we have that I(A,B,C) = \", I_ABC, \"While the lower bound is f_ABC = \", np.real(f_ABC_y))"
   ]
  },
  {
   "cell_type": "markdown",
   "metadata": {},
   "source": [
    "## What if I try to mix them?"
   ]
  },
  {
   "cell_type": "code",
   "execution_count": 16,
   "metadata": {},
   "outputs": [
    {
     "name": "stdout",
     "output_type": "stream",
     "text": [
      "Concluding for a mix of the 3 operators we have that I(A,B,C) =  0.9567595060825086 While the lower bound is f_ABC =  0.0016413079693077667\n"
     ]
    }
   ],
   "source": [
    "Mix_operator = qt.tensor(x, Z, Z)\n",
    "full_mix_avg = (p_random * Mix_operator).tr()\n",
    "C_ABC_MIX = full_mix_avg - avg_x_A*avg_Z_B*avg_Z_C\n",
    "f_ABC_MIX = (C_ABC_MIX**2)/(2*x_norm**2*Z_norm**2*Z_norm**2)\n",
    "print(\"Concluding for a mix of the 3 operators we have that I(A,B,C) = \", I_ABC, \"While the lower bound is f_ABC = \", np.real(f_ABC_MIX))"
   ]
  }
 ],
 "metadata": {
  "kernelspec": {
   "display_name": "Python 3",
   "language": "python",
   "name": "python3"
  },
  "language_info": {
   "codemirror_mode": {
    "name": "ipython",
    "version": 3
   },
   "file_extension": ".py",
   "mimetype": "text/x-python",
   "name": "python",
   "nbconvert_exporter": "python",
   "pygments_lexer": "ipython3",
   "version": "3.9.2"
  }
 },
 "nbformat": 4,
 "nbformat_minor": 2
}
