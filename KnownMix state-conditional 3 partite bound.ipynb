{
 "cells": [
  {
   "cell_type": "code",
   "execution_count": 1,
   "metadata": {},
   "outputs": [
    {
     "name": "stdout",
     "output_type": "stream",
     "text": [
      "5.0.4\n"
     ]
    }
   ],
   "source": [
    "import qutip as qt\n",
    "import numpy as np\n",
    "print(qt.__version__)\n"
   ]
  },
  {
   "cell_type": "markdown",
   "metadata": {},
   "source": [
    "## First we define state and density matrix"
   ]
  },
  {
   "cell_type": "code",
   "execution_count": 2,
   "metadata": {},
   "outputs": [
    {
     "name": "stdout",
     "output_type": "stream",
     "text": [
      "Mixed State Density Matrix (0.5 * W State + 0.5 * Entangled Pairs State):\n",
      "[[0.167 0.    0.    0.    0.    0.    0.    0.167]\n",
      " [0.    0.111 0.111 0.    0.111 0.    0.    0.   ]\n",
      " [0.    0.111 0.278 0.    0.111 0.167 0.    0.   ]\n",
      " [0.    0.    0.    0.    0.    0.    0.    0.   ]\n",
      " [0.    0.111 0.111 0.    0.111 0.    0.    0.   ]\n",
      " [0.    0.    0.167 0.    0.    0.167 0.    0.   ]\n",
      " [0.    0.    0.    0.    0.    0.    0.    0.   ]\n",
      " [0.167 0.    0.    0.    0.    0.    0.    0.167]]\n"
     ]
    }
   ],
   "source": [
    "\n",
    "\n",
    "def create_w_state(n):\n",
    "    \"\"\"Creates an n-qubit W state.\"\"\"\n",
    "    basis_states = [qt.basis([2]*n, [1 if i == j else 0 for i in range(n)]) for j in range(n)]\n",
    "    w_state = sum(basis_states) / np.sqrt(n)\n",
    "    return w_state\n",
    "\n",
    "def create_entangled_pairs_state():\n",
    "    \"\"\"Creates the 3-qubit entangled pairs state: (|010⟩ + |101⟩) / sqrt(2).\"\"\"\n",
    "    basis_010 = qt.basis([2,2,2], [0,1,0])  # |010⟩\n",
    "    basis_101 = qt.basis([2,2,2], [1,0,1])  # |101⟩\n",
    "    entangled_state = (basis_010 + basis_101) / np.sqrt(2)\n",
    "    return entangled_state\n",
    "\n",
    "def create_GHZ_state():\n",
    "    basis_111 = qt.basis([2,2,2],[1,1,1])\n",
    "    basis_000 = qt.basis([2,2,2],[0,0,0])\n",
    "    GHZ_state = (basis_111 + basis_000)/np.sqrt(2)\n",
    "    return(GHZ_state)\n",
    "\n",
    "\n",
    "def compute_density_matrix(state):\n",
    "    \"\"\"Computes the density matrix of a pure state.\"\"\"\n",
    "    return state * state.dag()\n",
    "\n",
    "num_qubits = 3\n",
    "\n",
    "# Create W state and its density matrix\n",
    "w_state = create_w_state(num_qubits)\n",
    "p_W = compute_density_matrix(w_state)\n",
    "\n",
    "entangled_state = create_entangled_pairs_state()\n",
    "p_E = compute_density_matrix(entangled_state)\n",
    "\n",
    "GHZ_State = create_GHZ_state()\n",
    "p_G = compute_density_matrix(GHZ_State)\n",
    "\n",
    "# Compute the mixed state: ρ_mixed = 0.5 * p_W + 0.5 * p_E\n",
    "p_full = (1/3)*( p_W +  p_E + p_G)\n",
    "\n",
    "# Print results\n",
    "print(\"Mixed State Density Matrix (0.5 * W State + 0.5 * Entangled Pairs State):\")\n",
    "np.set_printoptions(linewidth=200, precision=3, suppress=True)\n",
    "print(np.real(p_full.full()))\n",
    "\n"
   ]
  },
  {
   "cell_type": "markdown",
   "metadata": {},
   "source": [
    "## Conditional Mutual Information bound check"
   ]
  },
  {
   "cell_type": "code",
   "execution_count": 3,
   "metadata": {},
   "outputs": [],
   "source": [
    "def compute_reduced_density_matrices(p_W):\n",
    "    p_A = p_full.ptrace([0])  # Tracing out B and C\n",
    "    p_B = p_full.ptrace([1])  # Tracing out A and C\n",
    "    p_C = p_full.ptrace([2])  # Tracing out A and B\n",
    "    p_AB = p_full.ptrace([0, 1])  # Tracing out C\n",
    "    p_AC = p_full.ptrace([0, 2])  # Tracing out B\n",
    "    p_BC = p_full.ptrace([1, 2])  # Tracing out A\n",
    "    return p_A, p_B, p_C, p_AB, p_AC, p_BC\n",
    "\n",
    "\n",
    "p_A, p_B, p_C, p_AB, p_AC, p_BC = compute_reduced_density_matrices(p_W)\n",
    "\n",
    "def compute_entropies(p_A, p_B, p_C, p_AB, p_AC, p_BC, p_W):\n",
    "    S_A = qt.entropy_vn(p_A)\n",
    "    S_B = qt.entropy_vn(p_B)\n",
    "    S_C = qt.entropy_vn(p_C)\n",
    "    S_AB = qt.entropy_vn(p_AB)\n",
    "    S_AC = qt.entropy_vn(p_AC)\n",
    "    S_BC = qt.entropy_vn(p_BC)\n",
    "    S_W = qt.entropy_vn(p_W)  # Total system entropy\n",
    "    return S_A, S_B, S_C, S_AB, S_AC, S_BC, S_W\n",
    "\n",
    "S_A, S_B, S_C, S_AB, S_AC, S_BC, S_full = compute_entropies(p_A, p_B, p_C, p_AB, p_AC, p_BC, p_full)\n"
   ]
  },
  {
   "cell_type": "code",
   "execution_count": 4,
   "metadata": {},
   "outputs": [
    {
     "name": "stdout",
     "output_type": "stream",
     "text": [
      "========================================\n",
      "Subsystem  |      Entropy\n",
      "========================================\n",
      "S(ρ_A)     |     0.686962\n",
      "S(ρ_B)     |     0.686962\n",
      "S(ρ_C)     |     0.686962\n",
      "S(ρ_AB)    |     1.320359\n",
      "S(ρ_AC)    |     1.060857\n",
      "S(ρ_BC)    |     1.320359\n",
      "S(ρ_full)  |     1.041400\n",
      "========================================\n"
     ]
    }
   ],
   "source": [
    "# Nicely formatted printout\n",
    "entropy_labels = [\"S(ρ_A)\", \"S(ρ_B)\", \"S(ρ_C)\", \"S(ρ_AB)\", \"S(ρ_AC)\", \"S(ρ_BC)\", \"S(ρ_full)\"]\n",
    "entropy_values = [S_A, S_B, S_C, S_AB, S_AC, S_BC, S_full]\n",
    "\n",
    "# Print header\n",
    "print(\"=\" * 40)\n",
    "print(f\"{'Subsystem':<10} | {'Entropy':>12}\")\n",
    "print(\"=\" * 40)\n",
    "\n",
    "# Print entropy values\n",
    "for label, value in zip(entropy_labels, entropy_values):\n",
    "    print(f\"{label:<10} | {value:12.6f}\")\n",
    "\n",
    "print(\"=\" * 40)\n"
   ]
  },
  {
   "cell_type": "markdown",
   "metadata": {},
   "source": [
    "## Compute the Conditional Mutual Information"
   ]
  },
  {
   "cell_type": "code",
   "execution_count": 5,
   "metadata": {},
   "outputs": [
    {
     "name": "stdout",
     "output_type": "stream",
     "text": [
      "Conditional mutual information I(A:B|C) = 0.6528537287359995\n"
     ]
    }
   ],
   "source": [
    "I_ABcC = S_AC + S_BC - S_full - S_C\n",
    "print(\"Conditional mutual information I(A:B|C) =\",I_ABcC)"
   ]
  },
  {
   "cell_type": "markdown",
   "metadata": {},
   "source": [
    "## Compute 3 possible bounds using Z operator"
   ]
  },
  {
   "cell_type": "code",
   "execution_count": 6,
   "metadata": {},
   "outputs": [],
   "source": [
    "Z = qt.sigmaz()\n",
    "Z_2 = qt.tensor(Z, Z)\n",
    "Z_full = qt.tensor(Z, Z, Z)\n",
    "\n",
    "\n",
    "\n",
    "avg_Z_A = (p_A @ Z).tr()\n",
    "avg_Z_B = (p_B @ Z).tr()\n",
    "avg_Z_C = (p_C @ Z).tr()\n",
    "avg_Z_AC = (p_AC @ Z_2).tr()\n",
    "avg_Z_BC = (p_BC @ Z_2).tr()\n",
    "avg_Z_AB = (p_AB @ Z_2).tr()\n",
    "avg_Z_full = (p_W @ Z_full).tr()\n",
    "\n",
    "Z_norm = 1\n",
    "\n"
   ]
  },
  {
   "cell_type": "code",
   "execution_count": 7,
   "metadata": {},
   "outputs": [
    {
     "name": "stdout",
     "output_type": "stream",
     "text": [
      "========================================\n",
      "Observable |    Expectation Value\n",
      "========================================\n",
      "⟨Z_A⟩      |             0.111111\n",
      "⟨Z_B⟩      |             0.111111\n",
      "⟨Z_C⟩      |             0.111111\n",
      "⟨Z_AC⟩     |             0.555556\n",
      "⟨Z_BC⟩     |            -0.111111\n",
      "⟨Z_AB⟩     |            -0.111111\n",
      "⟨Z_W⟩ (Full) |            -1.000000\n",
      "========================================\n"
     ]
    }
   ],
   "source": [
    "# Define labels and values\n",
    "z_labels = [\n",
    "    \"⟨Z_A⟩\", \"⟨Z_B⟩\", \"⟨Z_C⟩\",\n",
    "    \"⟨Z_AC⟩\", \"⟨Z_BC⟩\", \"⟨Z_AB⟩\",\n",
    "    \"⟨Z_W⟩ (Full)\"\n",
    "]\n",
    "z_values = [\n",
    "    avg_Z_A, avg_Z_B, avg_Z_C,\n",
    "    avg_Z_AC, avg_Z_BC, avg_Z_AB,\n",
    "    avg_Z_full\n",
    "]\n",
    "\n",
    "# Print header\n",
    "print(\"=\" * 40)\n",
    "print(f\"{'Observable':<10} | {'Expectation Value':>20}\")\n",
    "print(\"=\" * 40)\n",
    "\n",
    "# Print expectation values\n",
    "for label, value in zip(z_labels, z_values):\n",
    "    print(f\"{label:<10} | {value:20.6f}\")\n",
    "\n",
    "print(\"=\" * 40)\n"
   ]
  },
  {
   "cell_type": "code",
   "execution_count": 11,
   "metadata": {},
   "outputs": [
    {
     "name": "stdout",
     "output_type": "stream",
     "text": [
      " f_1 =  -1.8247726464461718 \n",
      " f_2 =  -1.8328757723497684 \n",
      " f_3 = 0.003810394756896815 \n",
      " f_4 =  0.00030483158055174506\n"
     ]
    }
   ],
   "source": [
    "f_1 = 0.5*(((avg_Z_full-(avg_Z_A*avg_Z_BC))**2 + (avg_Z_full-(avg_Z_B*avg_Z_AC))**2)/(2*3*Z_norm**2)-4)\n",
    "f_2 = (avg_Z_full-avg_Z_A*avg_Z_B*avg_Z_C)**2/(2*3*Z_norm**2)-2\n",
    "f_3 = (avg_Z_AB-avg_Z_A*avg_Z_B)**2/(2*2*Z_norm**2) \n",
    "f_4 = (avg_Z_full*avg_Z_C - avg_Z_AC*avg_Z_BC)**2/(2*4*Z_norm**2)\n",
    "\n",
    "print(\" f_1 = \", np.real(f_1),\"\\n f_2 = \", np.real(f_2),\"\\n f_3 =\",np.real(f_3),\"\\n f_4 = \", np.real(f_4))"
   ]
  },
  {
   "cell_type": "code",
   "execution_count": 10,
   "metadata": {},
   "outputs": [
    {
     "name": "stdout",
     "output_type": "stream",
     "text": [
      "\n",
      "W = 0.6528537287359995 \n",
      "X = 0.01945656619084457 \n",
      "Y = -0.3544388043698534 \n",
      "Z = -0.9878359669150083\n"
     ]
    }
   ],
   "source": [
    "W = S_BC+S_AC-S_C-S_full\n",
    "X = S_A+S_AC-S_C-S_full\n",
    "Y = S_A + S_B-S_C-S_full\n",
    "Z = S_A+S_B-S_AB-S_full\n",
    "print(\"\\nW =\",W,\"\\nX =\",X,\"\\nY =\",Y,\"\\nZ =\",Z)"
   ]
  },
  {
   "cell_type": "code",
   "execution_count": 24,
   "metadata": {},
   "outputs": [
    {
     "name": "stdout",
     "output_type": "stream",
     "text": [
      "\n",
      "Density MatriM in MatriM Form:\n",
      "[[0.278 0.    0.    0.   ]\n",
      " [0.    0.278 0.111 0.   ]\n",
      " [0.    0.111 0.278 0.   ]\n",
      " [0.    0.    0.    0.167]]\n",
      "\n",
      "Density MatriM in MatriM Form:\n",
      "[[ 1.  0.  0.  0.]\n",
      " [ 0.  0.  0.  0.]\n",
      " [ 0.  0.  0.  0.]\n",
      " [ 0.  0.  0. -1.]]\n",
      "========================================\n",
      "Observable |    EMpectation Value\n",
      "========================================\n",
      "⟨M_A⟩      |             0.111111\n",
      "⟨M_B⟩      |             0.111111\n",
      "⟨M_C⟩      |             0.111111\n",
      "⟨M_AC⟩     |             0.111111\n",
      "⟨M_BC⟩     |             0.111111\n",
      "⟨M_AB⟩     |             0.111111\n",
      "⟨M_W⟩ (Full) |             0.333333\n",
      "========================================\n"
     ]
    }
   ],
   "source": [
    "M = qt.sigmaz()\n",
    "I = qt.qeye(2) \n",
    "M_2 = (qt.tensor(M, I) + qt.tensor(I, M)) / 2\n",
    "M_full = (qt.tensor(M, I, I) + qt.tensor(I, M, I) + qt.tensor(I, I, M)) / 3\n",
    "\n",
    "\n",
    "avg_M_A = (p_A @ M).tr()\n",
    "avg_M_B = (p_B @ M).tr()\n",
    "avg_M_C = (p_C @ M).tr()\n",
    "avg_M_AC = (p_AC @ M_2).tr()\n",
    "avg_M_BC = (p_BC @ M_2).tr()\n",
    "avg_M_AB = (p_AB @ M_2).tr()\n",
    "avg_M_full = (p_W @ M_full).tr()\n",
    "\n",
    "np.set_printoptions(linewidth=200, precision=3, suppress=True)\n",
    "print(\"\\nDensity MatriM in MatriM Form:\")\n",
    "print(np.real(p_AB.full()))\n",
    "\n",
    "np.set_printoptions(linewidth=200, precision=3, suppress=True)\n",
    "print(\"\\nDensity MatriM in MatriM Form:\")\n",
    "print(np.real(M_2.full()))\n",
    "\n",
    "M_norm = 1\n",
    "# Define labels and values\n",
    "M_labels = [\n",
    "    \"⟨M_A⟩\", \"⟨M_B⟩\", \"⟨M_C⟩\",\n",
    "    \"⟨M_AC⟩\", \"⟨M_BC⟩\", \"⟨M_AB⟩\",\n",
    "    \"⟨M_W⟩ (Full)\"\n",
    "]\n",
    "M_values = [\n",
    "    avg_M_A, avg_M_B, avg_M_C,\n",
    "    avg_M_AC, avg_M_BC, avg_M_AB,\n",
    "    avg_M_full\n",
    "]\n",
    "\n",
    "# Print header\n",
    "print(\"=\" * 40)\n",
    "print(f\"{'Observable':<10} | {'EMpectation Value':>20}\")\n",
    "print(\"=\" * 40)\n",
    "\n",
    "# Print eMpectation values\n",
    "for label, value in zip(M_labels, M_values):\n",
    "    print(f\"{label:<10} | {value:20.6f}\")\n",
    "\n",
    "print(\"=\" * 40)"
   ]
  },
  {
   "cell_type": "code",
   "execution_count": null,
   "metadata": {},
   "outputs": [
    {
     "name": "stdout",
     "output_type": "stream",
     "text": [
      " f_1 =  -0.9828278209622516 \n",
      " f_2 =  -1.9816335836590202 \n",
      " f_3 = -1.0389617283227628 \n",
      " f_4 =  7.620789513793616e-05\n"
     ]
    }
   ],
   "source": []
  }
 ],
 "metadata": {
  "kernelspec": {
   "display_name": "Python 3",
   "language": "python",
   "name": "python3"
  },
  "language_info": {
   "codemirror_mode": {
    "name": "ipython",
    "version": 3
   },
   "file_extension": ".py",
   "mimetype": "text/x-python",
   "name": "python",
   "nbconvert_exporter": "python",
   "pygments_lexer": "ipython3",
   "version": "3.9.2"
  }
 },
 "nbformat": 4,
 "nbformat_minor": 2
}
